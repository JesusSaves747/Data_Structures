{
 "cells": [
  {
   "cell_type": "markdown",
   "metadata": {},
   "source": [
    "## Test Notebook for Binary Tree Operations: "
   ]
  },
  {
   "cell_type": "markdown",
   "metadata": {},
   "source": [
    "### Class to implement node of a Binary tree: "
   ]
  },
  {
   "cell_type": "code",
   "execution_count": 4,
   "metadata": {},
   "outputs": [
    {
     "name": "stdout",
     "output_type": "stream",
     "text": [
      "4\n",
      "None\n"
     ]
    }
   ],
   "source": [
    "class Bnode: \n",
    "    \n",
    "    # Constructor: \n",
    "    def __init__(self, data = 0): \n",
    "        \n",
    "        # Three parameters: \n",
    "        # 1. data - Value held by the node: \n",
    "        # 2. left - Left child of the node: \n",
    "        # 3. right - Right child of the node: \n",
    "        self.data = data\n",
    "        self.left = None\n",
    "        self.right = None\n",
    "        \n",
    "\n",
    "## Test this out: \n",
    "testNode = Bnode(4)\n",
    "\n",
    "print (testNode.data)\n",
    "print (testNode.left)"
   ]
  },
  {
   "cell_type": "code",
   "execution_count": 18,
   "metadata": {},
   "outputs": [],
   "source": [
    "class BTree: \n",
    "    \n",
    "    # Constructor: \n",
    "    def __init__(self, root= None): \n",
    "        \n",
    "        # One parameters: \n",
    "        # 1. root - Root node of the tree \n",
    "        self.root = root\n"
   ]
  },
  {
   "cell_type": "markdown",
   "metadata": {},
   "source": [
    "## Utility Tree functions:  "
   ]
  },
  {
   "cell_type": "code",
   "execution_count": 26,
   "metadata": {},
   "outputs": [],
   "source": [
    "## 1. Determine the height of a tree given its root: \n",
    "def get_height(root): \n",
    "    \n",
    "    # Base case: root is None:\n",
    "    if root is None:        \n",
    "        return 0\n",
    "    \n",
    "    else: \n",
    "        return max(1 + get_height(root.left) , 1 + get_height(root.right))\n",
    "        \n",
    "        "
   ]
  },
  {
   "cell_type": "markdown",
   "metadata": {},
   "source": [
    "## Construction and Conversion Operations: \n",
    "\n",
    "### 1. Insert a new node in a Binary Search Tree: "
   ]
  },
  {
   "cell_type": "code",
   "execution_count": 61,
   "metadata": {},
   "outputs": [
    {
     "name": "stdout",
     "output_type": "stream",
     "text": [
      "The shuffled elements are: \n",
      "[ 8  6 14 15 10 17  9  0 16 19 13 18  7  5  4 12 11  2  1  3]\n",
      "Inserted Elements\n",
      " In-order traversal of the tree is: \n",
      "10.5, 8, 14, 6, 10, 13, 15, 0, 7, 9, 12, 17, 5, 11, 16, 19, 4, 18, 2, 1, 3, "
     ]
    }
   ],
   "source": [
    "### Function to insert a new entry as a node in a Binary Search Tree: \n",
    "\n",
    "# Pre-condition: The root of the tree is given. The tree is a Binary search tree: \n",
    "# Post-condition: The new entry is inserted at the correct position:\n",
    "# Note that this is a recursive function:\n",
    "def insert(root, new_data): \n",
    "    \n",
    "    # Base case: If the tree is empty: \n",
    "    if root is None:         \n",
    "        root = Bnode(new_data)\n",
    "        \n",
    "    # Compare the value of new_data with that of the data in current root node: \n",
    "    if new_data <= root.data: \n",
    "        \n",
    "        if root.left is None: \n",
    "            \n",
    "            root.left = Bnode(new_data)\n",
    "            \n",
    "            return\n",
    "        \n",
    "        else: \n",
    "            \n",
    "            insert(root.left, new_data)\n",
    "            \n",
    "    else: # new_data > root.data: \n",
    "        \n",
    "        if root.right is None: \n",
    "            \n",
    "            root.right = Bnode(new_data)\n",
    "            \n",
    "        else: \n",
    "            \n",
    "            insert(root.right, new_data)\n",
    "            \n",
    "\n",
    "## Test out the insert function: \n",
    "import numpy as np\n",
    "\n",
    "root = Bnode(10.5)\n",
    "\n",
    "numList = np.arange(20)\n",
    "\n",
    "np.random.shuffle(numList)\n",
    "\n",
    "print (\"The shuffled elements are: \")\n",
    "print (numList)\n",
    "\n",
    "\n",
    "# Test out the recursive insert function: \n",
    "for new in numList: \n",
    "    \n",
    "    insert(root, new)\n",
    "    \n",
    "print (\"Inserted Elements\")\n",
    "\n",
    "\n",
    "print (\" In-order traversal of the tree is: \")\n",
    "\n",
    "breadth_first_queue(root)\n",
    "        \n",
    "\n"
   ]
  },
  {
   "cell_type": "markdown",
   "metadata": {},
   "source": [
    "## Traversals of a Binary Tree: \n",
    "\n",
    "### 1. Breadth First (Level Order Traversal): "
   ]
  },
  {
   "cell_type": "code",
   "execution_count": 60,
   "metadata": {},
   "outputs": [
    {
     "name": "stdout",
     "output_type": "stream",
     "text": [
      "Height of this tree is: \n",
      "3\n",
      "Breadth first traversal of the tree is: \n",
      "1, 2, 3, 4, 5, Breadth first traversal of the tree is: \n",
      "1, 2, 3, 4, 5, "
     ]
    }
   ],
   "source": [
    "## Method 1: Breadth first traversal using Recursive function: \n",
    "\n",
    "# 1.1 Master function: \n",
    "def breadth_first_rec(root, height): \n",
    "    \n",
    "    for level in range(1,height+1): \n",
    "        \n",
    "        print_current_level(root, level)\n",
    "        \n",
    "\n",
    "# 1.2 Slave Function \n",
    "def print_current_level(root, level): \n",
    "    \n",
    "    # Base case: If the node is None: \n",
    "    if root is None: \n",
    "        return \n",
    "    \n",
    "    # Print case: \n",
    "    if level == 1: \n",
    "        print (root.data , end =\", \")\n",
    "        \n",
    "    elif level > 1: \n",
    "        print_current_level(root.left, level - 1)\n",
    "        print_current_level(root.right, level - 1)\n",
    "        \n",
    "\n",
    "## Test out the implementation: \n",
    "print (\"Height of this tree is: \")\n",
    "\n",
    "height = get_height(root)\n",
    "\n",
    "print (height)\n",
    "\n",
    "print (\"Breadth first traversal of the tree is: \")\n",
    "\n",
    "breadth_first_rec(root, height)\n",
    "\n",
    "\n",
    "## Method 2: Level order traversal by maintaining a queue: \n",
    "# Note: Implementing the queue as a Python list for now: \n",
    "# Remember Dijkstra search for shortest paths in Graph: \n",
    "# No need to precompute the height of the tree here: \n",
    "\n",
    "def breadth_first_queue(root): \n",
    "    \n",
    "    # Initialize the empty queue: \n",
    "    queue = []\n",
    "    \n",
    "    queue.append(root)\n",
    "    \n",
    "    # Keep looping until the queue is empty:\n",
    "    while queue: \n",
    "        \n",
    "        temp = queue.pop(0)\n",
    "        \n",
    "        if temp:\n",
    "            print (temp.data ,end =\", \")\n",
    "        \n",
    "            # Add the children to the queue\n",
    "        \n",
    "            queue.append(temp.left)\n",
    "            queue.append(temp.right)\n",
    "    \n",
    "    \n",
    "## Test out the 2nd method for breadth first traversal: \n",
    "print (\"Breadth first traversal of the tree is: \")\n",
    "\n",
    "breadth_first_queue(root)"
   ]
  },
  {
   "cell_type": "markdown",
   "metadata": {},
   "source": [
    "### 2. Depth First Traversal: \n",
    "\n",
    "#### 2.1 In-order traversal: "
   ]
  },
  {
   "cell_type": "code",
   "execution_count": 69,
   "metadata": {},
   "outputs": [],
   "source": [
    "# Implement a recursive function for in-order traversal: \n",
    "def in_order(root): \n",
    "    \n",
    "    # Base Case: \n",
    "    if root is None: \n",
    "        return\n",
    "    \n",
    "    else: \n",
    "        in_order(root.left)\n",
    "        print (root.data, end=\", \")\n",
    "        in_order(root.right)\n",
    "        \n",
    "\n",
    "# In-order traversal wihtout using recursion: But using a stack: \n",
    "# Logic: Add a node to the stack and then move on to its left child. Do this until we reach a NULL node. Then pop the top \n",
    "#        element from the stack print it and then move to its right child. \n",
    "# Try this out: Use a Python list to implement the stack: \n",
    "def in_order_stack(root): \n",
    "    \n",
    "    # Create an empty stack and add the root to it: \n",
    "    stack =[]\n",
    "    \n",
    "    stack.append(root)\n",
    "    \n",
    "    # Create a pointer to the nodes and initialize it as the root \n",
    "    current = root.left\n",
    "    \n",
    "    while stack:\n",
    "        \n",
    "        while current: \n",
    "            \n",
    "            stack.append(current)\n",
    "            \n",
    "            current = current.left\n",
    "        \n",
    "        temp = stack.pop()\n",
    "        \n",
    "        print (temp.data, end=\", \")\n",
    "        \n",
    "        current = temp.right\n",
    "\n",
    "# Test this out: \n",
    "\n",
    "\n",
    "    \n",
    "    "
   ]
  },
  {
   "cell_type": "markdown",
   "metadata": {},
   "source": [
    "#### 2.2 Pre-order traversal: "
   ]
  },
  {
   "cell_type": "code",
   "execution_count": 46,
   "metadata": {},
   "outputs": [],
   "source": [
    "# Implement a recursive function for pre-order traversal: \n",
    "def pre_order(root): \n",
    "    \n",
    "    # Base Case: \n",
    "    if root is None: \n",
    "        return\n",
    "    \n",
    "    else: \n",
    "        print (root.data, end=\", \")\n",
    "        pre_order(root.left)        \n",
    "        pre_order(root.right)"
   ]
  },
  {
   "cell_type": "markdown",
   "metadata": {},
   "source": [
    "#### 2.3 Post-order traversal: "
   ]
  },
  {
   "cell_type": "code",
   "execution_count": 47,
   "metadata": {},
   "outputs": [],
   "source": [
    "# Implement a recursive function for post-order traversal: \n",
    "def post_order(root): \n",
    "    \n",
    "    # Base Case: \n",
    "    if root is None: \n",
    "        return\n",
    "    \n",
    "    else: \n",
    "        post_order(root.left)        \n",
    "        post_order(root.right)\n",
    "        print (root.data, end=\", \")"
   ]
  },
  {
   "cell_type": "code",
   "execution_count": 70,
   "metadata": {},
   "outputs": [
    {
     "name": "stdout",
     "output_type": "stream",
     "text": [
      "In order: \n",
      "4\n",
      "2\n",
      "5\n",
      "1\n",
      " \n",
      "Pre order: \n",
      "1, 2, 4, 5, 3,  \n",
      "Post order: \n",
      "4, 5, 2, 3, 1,  \n",
      " Breadth first\n",
      "1, 2, 3, "
     ]
    }
   ],
   "source": [
    "## Simple tests for depth first traversals: \n",
    "root = Bnode(1)\n",
    "root.left      = Bnode(2)\n",
    "root.right     = Bnode(3)\n",
    "root.left.left  = Bnode(4)\n",
    "root.left.right  = Bnode(5)\n",
    "\n",
    "print (\"In order: \")\n",
    "in_order_stack(root)\n",
    "print(\" \")\n",
    "\n",
    "print (\"Pre order: \")\n",
    "pre_order(root)\n",
    "print(\" \")\n",
    "\n",
    "print (\"Post order: \")\n",
    "post_order(root)\n",
    "print(\" \")\n",
    "\n",
    "print (\" Breadth first\")\n",
    "breadth_first_rec(root,2)\n",
    "\n"
   ]
  }
 ],
 "metadata": {
  "kernelspec": {
   "display_name": "Python 3",
   "language": "python",
   "name": "python3"
  },
  "language_info": {
   "codemirror_mode": {
    "name": "ipython",
    "version": 3
   },
   "file_extension": ".py",
   "mimetype": "text/x-python",
   "name": "python",
   "nbconvert_exporter": "python",
   "pygments_lexer": "ipython3",
   "version": "3.5.2"
  }
 },
 "nbformat": 4,
 "nbformat_minor": 2
}
