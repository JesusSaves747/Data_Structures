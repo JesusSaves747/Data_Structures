{
 "cells": [
  {
   "cell_type": "markdown",
   "metadata": {},
   "source": [
    "## CTCI Questions (6th edition) - Trees and Graphs: \n",
    "\n",
    "### Pages: 109 -111\n"
   ]
  },
  {
   "cell_type": "markdown",
   "metadata": {},
   "source": [
    "#### 4.3 List of Depths: "
   ]
  },
  {
   "cell_type": "code",
   "execution_count": null,
   "metadata": {},
   "outputs": [],
   "source": [
    "from BinaryTree import Bnode\n",
    "\n",
    "## Function that creates a separate LinkedList for depth level of a binary tree: \n",
    "# Input to the function is root of the binary tree: \n",
    "\n",
    "# Since this is a binary tree: We know the number of nodes at each level: Given d as the depth level (Starting from zero): \n",
    "# nodes_d = 2^(d)\n",
    "\n",
    "# Strategy: Keep two tracking variables: \n",
    "# 1. currentDepth - \n",
    "# 2. numNodes - When numNodes exceeds 2^(currentDepth). Increment curentDepth\n",
    "def depth_list(root):"
   ]
  }
 ],
 "metadata": {
  "kernelspec": {
   "display_name": "Python 3",
   "language": "python",
   "name": "python3"
  },
  "language_info": {
   "codemirror_mode": {
    "name": "ipython",
    "version": 3
   },
   "file_extension": ".py",
   "mimetype": "text/x-python",
   "name": "python",
   "nbconvert_exporter": "python",
   "pygments_lexer": "ipython3",
   "version": "3.5.2"
  }
 },
 "nbformat": 4,
 "nbformat_minor": 2
}
