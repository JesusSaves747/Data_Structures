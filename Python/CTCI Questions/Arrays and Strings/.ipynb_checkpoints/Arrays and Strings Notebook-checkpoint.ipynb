{
 "cells": [
  {
   "cell_type": "markdown",
   "metadata": {},
   "source": [
    "# CTCI Questions on Arrays and Strings (6th edition)\n",
    "\n",
    "## Pages 90 -91 "
   ]
  },
  {
   "cell_type": "markdown",
   "metadata": {},
   "source": [
    "### 1.1 Unique string? "
   ]
  },
  {
   "cell_type": "code",
   "execution_count": 3,
   "metadata": {},
   "outputs": [
    {
     "name": "stdout",
     "output_type": "stream",
     "text": [
      "Please Enter your stringjgkas\n",
      " String is unique\n"
     ]
    }
   ],
   "source": [
    "# 1. Using a simple boolean array: \n",
    "def is_unique(input_str): \n",
    "    \n",
    "    # Basic check: Validate that length of the string is less than 128:\n",
    "    if len(input_str) > 128: \n",
    "        return False\n",
    "    \n",
    "    # Setup a boolean array of length 128:\n",
    "    used = []\n",
    "    for i in range(0,128):\n",
    "        used.append(False)\n",
    "    \n",
    "    # Loop through each character in the string and check: \n",
    "    # Remember :ord is a built-in Python function to get the ASCII code of a character.\n",
    "    #           chr is a built-in Python function to get character from ASCII code\n",
    "    for c in input_str: \n",
    "        \n",
    "        if (used[ord(c)]): \n",
    "            \n",
    "            return False\n",
    "        \n",
    "        used[ord(c)] = True\n",
    "        \n",
    "    return True\n",
    "        \n",
    "# Test: \n",
    "myStr = input(\"Please Enter your string\")\n",
    "\n",
    "if is_unique(myStr): \n",
    "    \n",
    "    print (\" String is unique\")\n",
    "    \n",
    "else: \n",
    "    \n",
    "    print (\" String is NOT unique\")\n",
    "    \n",
    "    \n"
   ]
  },
  {
   "cell_type": "markdown",
   "metadata": {},
   "source": [
    "### 1.2 Permutation: "
   ]
  },
  {
   "cell_type": "code",
   "execution_count": 10,
   "metadata": {},
   "outputs": [
    {
     "name": "stdout",
     "output_type": "stream",
     "text": [
      "Please Enter the first stringviosa\n",
      "Please Enter the second stringsavio\n"
     ]
    },
    {
     "ename": "TypeError",
     "evalue": "descriptor 'items' of 'dict' object needs an argument",
     "output_type": "error",
     "traceback": [
      "\u001b[0;31m---------------------------------------------------------------------------\u001b[0m",
      "\u001b[0;31mTypeError\u001b[0m                                 Traceback (most recent call last)",
      "\u001b[0;32m<ipython-input-10-8ab6de36e18e>\u001b[0m in \u001b[0;36m<module>\u001b[0;34m()\u001b[0m\n\u001b[1;32m     42\u001b[0m \u001b[0mstr2\u001b[0m \u001b[0;34m=\u001b[0m \u001b[0minput\u001b[0m\u001b[0;34m(\u001b[0m\u001b[0;34m\"Please Enter the second string\"\u001b[0m\u001b[0;34m)\u001b[0m\u001b[0;34m\u001b[0m\u001b[0m\n\u001b[1;32m     43\u001b[0m \u001b[0;34m\u001b[0m\u001b[0m\n\u001b[0;32m---> 44\u001b[0;31m \u001b[0;32mif\u001b[0m \u001b[0;34m(\u001b[0m\u001b[0mpermutation_python\u001b[0m\u001b[0;34m(\u001b[0m\u001b[0mstr1\u001b[0m\u001b[0;34m,\u001b[0m \u001b[0mstr2\u001b[0m\u001b[0;34m)\u001b[0m\u001b[0;34m)\u001b[0m\u001b[0;34m:\u001b[0m\u001b[0;34m\u001b[0m\u001b[0m\n\u001b[0m\u001b[1;32m     45\u001b[0m \u001b[0;34m\u001b[0m\u001b[0m\n\u001b[1;32m     46\u001b[0m     \u001b[0mprint\u001b[0m \u001b[0;34m(\u001b[0m\u001b[0;34m\" The two strings are permutations\"\u001b[0m\u001b[0;34m)\u001b[0m\u001b[0;34m\u001b[0m\u001b[0m\n",
      "\u001b[0;32m<ipython-input-10-8ab6de36e18e>\u001b[0m in \u001b[0;36mpermutation_python\u001b[0;34m(str1, str2)\u001b[0m\n\u001b[1;32m     29\u001b[0m             \u001b[0;32mreturn\u001b[0m \u001b[0;32mFalse\u001b[0m\u001b[0;34m\u001b[0m\u001b[0m\n\u001b[1;32m     30\u001b[0m \u001b[0;34m\u001b[0m\u001b[0m\n\u001b[0;32m---> 31\u001b[0;31m     \u001b[0;32mfor\u001b[0m \u001b[0mk\u001b[0m\u001b[0;34m,\u001b[0m\u001b[0mv\u001b[0m \u001b[0;32min\u001b[0m \u001b[0mdict\u001b[0m\u001b[0;34m.\u001b[0m\u001b[0mitems\u001b[0m\u001b[0;34m(\u001b[0m\u001b[0;34m)\u001b[0m\u001b[0;34m:\u001b[0m\u001b[0;34m\u001b[0m\u001b[0m\n\u001b[0m\u001b[1;32m     32\u001b[0m \u001b[0;34m\u001b[0m\u001b[0m\n\u001b[1;32m     33\u001b[0m         \u001b[0;32mif\u001b[0m \u001b[0mv\u001b[0m \u001b[0;34m!=\u001b[0m \u001b[0;36m0\u001b[0m\u001b[0;34m:\u001b[0m\u001b[0;34m\u001b[0m\u001b[0m\n",
      "\u001b[0;31mTypeError\u001b[0m: descriptor 'items' of 'dict' object needs an argument"
     ]
    }
   ],
   "source": [
    "## 1. Using an array to keep count of the number of each of the characters: \n",
    "\n",
    "\n",
    "## 2. Using a Python Dictionary to keep count of the characters: \n",
    "\n",
    "def permutation_python(str1, str2): \n",
    "    \n",
    "    charCount = {}\n",
    "    \n",
    "    # Loop through the first string: \n",
    "    for c1 in str1: \n",
    "        \n",
    "        if c1 not in charCount:  \n",
    "            \n",
    "            charCount[c1] = 1\n",
    "            \n",
    "        else: \n",
    "            charCount[c1] +=1\n",
    "    \n",
    "    # Loop through the second string: \n",
    "    for c2 in str2:\n",
    "        \n",
    "        if c2 in charCount:  \n",
    "            \n",
    "            charCount[c2] -= 1\n",
    "            \n",
    "        else: \n",
    "            \n",
    "            return False\n",
    "        \n",
    "    for k,v in charCount.items():\n",
    "        \n",
    "        if v != 0:\n",
    "            \n",
    "            return False\n",
    "    \n",
    "    return True\n",
    "            \n",
    "\n",
    "## Test this part out: \n",
    "str1 = input(\"Please Enter the first string\")\n",
    "str2 = input(\"Please Enter the second string\")\n",
    "\n",
    "if (permutation_python(str1, str2)):\n",
    "    \n",
    "    print (\" The two strings are permutations\")\n",
    "    \n",
    "else: \n",
    "    \n",
    "    print (\" The two strings are NOT permutations\")\n",
    "\n"
   ]
  }
 ],
 "metadata": {
  "kernelspec": {
   "display_name": "Python 3",
   "language": "python",
   "name": "python3"
  },
  "language_info": {
   "codemirror_mode": {
    "name": "ipython",
    "version": 3
   },
   "file_extension": ".py",
   "mimetype": "text/x-python",
   "name": "python",
   "nbconvert_exporter": "python",
   "pygments_lexer": "ipython3",
   "version": "3.5.2"
  }
 },
 "nbformat": 4,
 "nbformat_minor": 2
}
