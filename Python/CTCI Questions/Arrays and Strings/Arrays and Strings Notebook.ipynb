{
 "cells": [
  {
   "cell_type": "markdown",
   "metadata": {},
   "source": [
    "# CTCI Questions on Arrays and Strings (6th edition)\n",
    "\n",
    "## Pages 90 -91 "
   ]
  },
  {
   "cell_type": "markdown",
   "metadata": {},
   "source": [
    "### 1.1 Unique string? "
   ]
  },
  {
   "cell_type": "code",
   "execution_count": 3,
   "metadata": {},
   "outputs": [
    {
     "name": "stdout",
     "output_type": "stream",
     "text": [
      "Please Enter your stringjgkas\n",
      " String is unique\n"
     ]
    }
   ],
   "source": [
    "# 1. Using a simple boolean array: \n",
    "def is_unique(input_str): \n",
    "    \n",
    "    # Basic check: Validate that length of the string is less than 128:\n",
    "    if len(input_str) > 128: \n",
    "        return False\n",
    "    \n",
    "    # Setup a boolean array of length 128:\n",
    "    used = []\n",
    "    for i in range(0,128):\n",
    "        used.append(False)\n",
    "    \n",
    "    # Loop through each character in the string and check: \n",
    "    # Remember :ord is a built-in Python function to get the ASCII code of a character.\n",
    "    #           chr is a built-in Python function to get character from ASCII code\n",
    "    for c in input_str: \n",
    "        \n",
    "        if (used[ord(c)]): \n",
    "            \n",
    "            return False\n",
    "        \n",
    "        used[ord(c)] = True\n",
    "        \n",
    "    return True\n",
    "        \n",
    "# Test: \n",
    "myStr = input(\"Please Enter your string\")\n",
    "\n",
    "if is_unique(myStr): \n",
    "    \n",
    "    print (\" String is unique\")\n",
    "    \n",
    "else: \n",
    "    \n",
    "    print (\" String is NOT unique\")\n",
    "    \n",
    "    \n"
   ]
  },
  {
   "cell_type": "markdown",
   "metadata": {},
   "source": [
    "### 1.2 Permutation: "
   ]
  },
  {
   "cell_type": "code",
   "execution_count": null,
   "metadata": {},
   "outputs": [],
   "source": [
    "## 1. Using an array to keep count of the number of each of the characters: \n",
    "\n",
    "\n",
    "## 2. Using a Python Dictionary to keep count of the characters: \n",
    "\n",
    "def permutation_python(str1, str2): \n",
    "    \n",
    "    charCount = {}\n",
    "    \n",
    "    # Loop through the first string: \n",
    "    for c1 in str1: \n",
    "        \n",
    "        if c1 not in charCount:  \n",
    "            \n",
    "            charCount[c1] = 1\n",
    "            \n",
    "        else: \n",
    "            charCount[c1] +=1\n",
    "    \n",
    "    # Loop through the second string: \n",
    "    for c2 in str2:\n",
    "        \n",
    "        if c2 in charCount:  \n",
    "            \n",
    "            charCount[c2] -= 1\n",
    "            \n",
    "        else: \n",
    "            \n",
    "            return False\n",
    "        \n",
    "    for k,v in charCount.items():\n",
    "        \n",
    "        if v != 0:\n",
    "            \n",
    "            return False\n",
    "    \n",
    "    return True\n",
    "            \n",
    "\n",
    "## Test this out: \n",
    "str1 = input(\"Please Enter the first string\")\n",
    "str2 = input(\"Please Enter the second string\")\n",
    "\n",
    "if (permutation_python(str1, str2)):\n",
    "    \n",
    "    print (\" The two strings are permutations\")\n",
    "    \n",
    "else: \n",
    "    \n",
    "    print (\" The two strings are NOT permutations\")\n",
    "\n"
   ]
  },
  {
   "cell_type": "markdown",
   "metadata": {},
   "source": [
    "### 1.4 Palindrome Permutation: \n",
    "\n",
    "#### Remeber : For a string to be a permutation of a palindrome, all of the characters should have an even count and at most one character can have an odd count. "
   ]
  },
  {
   "cell_type": "code",
   "execution_count": 10,
   "metadata": {},
   "outputs": [
    {
     "name": "stdout",
     "output_type": "stream",
     "text": [
      " Enter the stringsada\n",
      " String is NOT a permutation of a Palindrome\n"
     ]
    }
   ],
   "source": [
    "def permutation_palindrome(inputStr):\n",
    "    \n",
    "    # Initialize the dictionary: \n",
    "    charCount = {}\n",
    "    \n",
    "    # Loop through the characters of the string: \n",
    "    for char in inputStr: \n",
    "        \n",
    "        # Add the current character to the dictionary or increment its count if it already exists:\n",
    "        if char in charCount: \n",
    "            \n",
    "            charCount[char] += 1\n",
    "        else: \n",
    "            charCount[char]= 1\n",
    "            \n",
    "    foundOdd = False\n",
    "    \n",
    "    # Now loop through the dictionary and check how many characters have an odd count: \n",
    "    for k,v in charCount.items():\n",
    "        \n",
    "        if v % 2 ==1: \n",
    "            \n",
    "            if foundOdd: \n",
    "                \n",
    "                return False\n",
    "            \n",
    "            foundOdd = True\n",
    "            \n",
    "    return True\n",
    "        \n",
    "              \n",
    "## Test this out: \n",
    "myStr = input(\" Enter the string\")\n",
    "\n",
    "if (permutation_palindrome(myStr)):\n",
    "    \n",
    "    print (\" String is a permutation of Palindrome\")\n",
    "    \n",
    "else: \n",
    "    \n",
    "    print (\" String is NOT a permutation of a Palindrome\")\n",
    "    \n",
    "\n"
   ]
  },
  {
   "cell_type": "markdown",
   "metadata": {},
   "source": [
    "### 1.6 String Compression: "
   ]
  },
  {
   "cell_type": "markdown",
   "metadata": {},
   "source": [
    "### 1.7 Rotate matrix by 90 degrees: \n",
    "\n",
    "#### Hint: To rotate a matrix switch left edge with top edge, top edge with right edge, right edge with bottom edge and finally \n",
    "####  bottom edge with left edge"
   ]
  },
  {
   "cell_type": "code",
   "execution_count": 50,
   "metadata": {},
   "outputs": [
    {
     "name": "stdout",
     "output_type": "stream",
     "text": [
      "[[1 2]\n",
      " [3 4]]\n",
      "[1 3]\n",
      "[2 1]\n",
      "[4 2]\n",
      "[3 4]\n",
      "[[4 3]\n",
      " [2 1]]\n"
     ]
    }
   ],
   "source": [
    "# Helper function for rotating a matrix by 90 degrees: \n",
    "def shift_edges(left,top,right, bottom): \n",
    "    \n",
    "    \n",
    "    print (left)\n",
    "    print (top)\n",
    "    print (right)\n",
    "    print (bottom)\n",
    "    \n",
    "    # In some manner assert that length of each array is the same: \n",
    "    \n",
    "    # Now perform the shifting element by element: \n",
    "    for i in range(0,len(left)):\n",
    "        \n",
    "        temp = left[i]\n",
    "        left[i] = top[i]\n",
    "        top[i] = right[i]\n",
    "        right[i] = bottom[i]\n",
    "        bottom[i] = temp\n",
    "        \n",
    "    \n",
    "\n",
    "# Pre-condition: Mat is an NxN matrix.Using a numpy 2D array for testing:\n",
    "\n",
    "def rotate_matrix(Mat): \n",
    "    \n",
    "    # Get the shape of the matrix: Assumption is that it will be square:\n",
    "    N,M = Mat.shape\n",
    "    \n",
    "    # Implement the algorithm layer by layer: \n",
    "    # Start from outer layers:     \n",
    "    i, j = 0, N-1\n",
    "    \n",
    "    \n",
    "    while j > i:  # Note j should be strictly greater than i\n",
    "        \n",
    "#         top = Mat[i ,i:j+1]\n",
    "        \n",
    "#         left = Mat[i:j+1 ,i]\n",
    "        \n",
    "#         bottom = Mat[j , i:j+1]\n",
    "        \n",
    "#         right = Mat[i:j+1 , j]\n",
    "        \n",
    "        if i==0:\n",
    "            shift_edges(Mat[i:j+1 ,i],Mat[i ,j::-1] ,Mat[j::-1 , j], Mat[j , i:j+1])\n",
    "            \n",
    "        else: \n",
    "            shift_edges(Mat[i:j+1 ,i],Mat[i ,j:i-1:-1] ,Mat[j:i-1:-1 , j], Mat[j , i:j+1])\n",
    "        \n",
    "        i+=1\n",
    "        \n",
    "        j-=1\n",
    "    \n",
    "\n",
    "## Test this much out: \n",
    "import numpy as np\n",
    "               \n",
    "Mat = np.array([[1,2], [3,4]])\n",
    "\n",
    "print (Mat)\n",
    "\n",
    "rotate_matrix(Mat)\n",
    "               \n",
    "print(Mat)\n",
    "    "
   ]
  }
 ],
 "metadata": {
  "kernelspec": {
   "display_name": "Python 3",
   "language": "python",
   "name": "python3"
  },
  "language_info": {
   "codemirror_mode": {
    "name": "ipython",
    "version": 3
   },
   "file_extension": ".py",
   "mimetype": "text/x-python",
   "name": "python",
   "nbconvert_exporter": "python",
   "pygments_lexer": "ipython3",
   "version": "3.5.2"
  }
 },
 "nbformat": 4,
 "nbformat_minor": 2
}
